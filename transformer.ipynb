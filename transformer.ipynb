{
 "cells": [
  {
   "cell_type": "code",
   "execution_count": 1,
   "metadata": {},
   "outputs": [],
   "source": [
    "import numpy as np\n",
    "import torch\n",
    "import math\n",
    "from torch import nn\n",
    "import torch.nn.functional as F"
   ]
  },
  {
   "cell_type": "code",
   "execution_count": 2,
   "metadata": {},
   "outputs": [
    {
     "data": {
      "text/plain": [
       "True"
      ]
     },
     "execution_count": 2,
     "metadata": {},
     "output_type": "execute_result"
    }
   ],
   "source": [
    "torch.cuda.is_available()"
   ]
  },
  {
   "cell_type": "code",
   "execution_count": 3,
   "metadata": {},
   "outputs": [
    {
     "data": {
      "text/plain": [
       "device(type='cuda')"
      ]
     },
     "execution_count": 3,
     "metadata": {},
     "output_type": "execute_result"
    },
    {
     "ename": "",
     "evalue": "",
     "output_type": "error",
     "traceback": [
      "\u001b[1;31mThe Kernel crashed while executing code in the current cell or a previous cell. \n",
      "\u001b[1;31mPlease review the code in the cell(s) to identify a possible cause of the failure. \n",
      "\u001b[1;31mClick <a href='https://aka.ms/vscodeJupyterKernelCrash'>here</a> for more info. \n",
      "\u001b[1;31mView Jupyter <a href='command:jupyter.viewOutput'>log</a> for further details."
     ]
    }
   ],
   "source": [
    "torch.device('cuda')"
   ]
  },
  {
   "cell_type": "code",
   "execution_count": null,
   "metadata": {},
   "outputs": [],
   "source": [
    "from open_lm.hf import *\n",
    "from transformers import AutoTokenizer, AutoModelForCausalLM\n",
    "tokenizer = AutoTokenizer.from_pretrained(\"TRI-ML/DCLM-1B\")\n",
    "model = AutoModelForCausalLM.from_pretrained(\"TRI-ML/DCLM-1B\")\n",
    "\n",
    "inputs = tokenizer([\"Machine learning is\"], return_tensors=\"pt\")"
   ]
  },
  {
   "cell_type": "code",
   "execution_count": 1,
   "metadata": {},
   "outputs": [
    {
     "ename": "",
     "evalue": "",
     "output_type": "error",
     "traceback": [
      "\u001b[1;31mThe Kernel crashed while executing code in the current cell or a previous cell. \n",
      "\u001b[1;31mPlease review the code in the cell(s) to identify a possible cause of the failure. \n",
      "\u001b[1;31mClick <a href='https://aka.ms/vscodeJupyterKernelCrash'>here</a> for more info. \n",
      "\u001b[1;31mView Jupyter <a href='command:jupyter.viewOutput'>log</a> for further details."
     ]
    }
   ],
   "source": [
    "from threading import local\n",
    "\n",
    "\n",
    "def flash_attention(q,k,v,mask=None,dropout=None,block_size=1024):\n",
    "    #extractttt info from query tensor\n",
    "    batch_size,num_heads,seq_len,d_k=q.size()\n",
    "    #scaling factor for the dot product attention\n",
    "    scale=1/math.sqrt(d_k)\n",
    "    #intializee tensors to store final output and atteention weights\n",
    "    output=torch.zeros_like(q)\n",
    "    attention_weights=torch.zeros(batch_size,seq_len,seq_len,device=q.device)\n",
    "\n",
    "    #itterate over the sequence in block s\n",
    "    for block_start in range(0,seq_len,block_size):\n",
    "        #caclulate the end of the block\n",
    "        block_end=min(block_start+block_size,seq_len)\n",
    "        \n",
    "        #extracl block for query key and values \n",
    "        local_q=q[::,:,block_start:block_end]\n",
    "        local_k=k[:,:,:block_end]\n",
    "        local_v=v[:,:,:block_end]\n",
    "\n",
    "        #local attention scaled dod product fo it is calcualted\n",
    "        local_attention=torch.matmul(local_q,local_k.transpose(-1,-2))*scale\n",
    "\n",
    "        #apply mask if provided\n",
    "        if mask is not None:\n",
    "            local_attn=local_attn+mask[:,:,block_start:block_end,:block_end]\n",
    "\n",
    "        #apply softmax\n",
    "        local_attn=F.softmax(local_attn,dim=-1)\n",
    "\n",
    "        #apply dropout if provided \n",
    "        if dropout is not None:\n",
    "            local_attn=dropout(local_attn)\n",
    "\n",
    "        #compute output of current block\n",
    "        local_output=torch.matmul(local_attn,local_v)\n",
    "\n",
    "        #store output of current block\n",
    "        output[:,:,block_start:block_end]=local_output\n",
    "        attention_weights[:,:,block_start:block_end]=local_attn\n",
    "\n",
    "    return output,attention_weights    \n",
    "\n",
    "def flash_scaled_dot_product(q,k,v,mask):\n",
    "    d_k=q.size()[:-1]\n",
    "    values,attention=flash_attention(q,k,v,mask)\n",
    "    return values,attention\n"
   ]
  },
  {
   "cell_type": "code",
   "execution_count": null,
   "metadata": {},
   "outputs": [],
   "source": [
    "class rotaryembedding(nn.Module):\n",
    "    def __init__(self,dim):\n",
    "        super().__init__()\n",
    "        self.dim=dim\n",
    "    def forward(self,seq_len):\n",
    "        half_dim=self.dim//2\n",
    "        emb=math.log(10000)/(half_dim-1)\n",
    "        emb=torch.exp(torch.arange(half_dim,device=self.device)*-emb)    \n"
   ]
  }
 ],
 "metadata": {
  "kernelspec": {
   "display_name": "Python 3",
   "language": "python",
   "name": "python3"
  },
  "language_info": {
   "codemirror_mode": {
    "name": "ipython",
    "version": 3
   },
   "file_extension": ".py",
   "mimetype": "text/x-python",
   "name": "python",
   "nbconvert_exporter": "python",
   "pygments_lexer": "ipython3",
   "version": "3.10.11"
  }
 },
 "nbformat": 4,
 "nbformat_minor": 2
}
